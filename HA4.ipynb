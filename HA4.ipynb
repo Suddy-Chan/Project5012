{
 "cells": [
  {
   "cell_type": "markdown",
   "id": "cb258779",
   "metadata": {},
   "source": [
    "# HA4: Image Classification"
   ]
  },
  {
   "cell_type": "code",
   "execution_count": null,
   "id": "f83ff852",
   "metadata": {},
   "outputs": [],
   "source": [
    "import numpy as np\n",
    "\n",
    "img_paths = ['1.png', '2.png', '3.png', '4.png', '5.png', '6.png', '7.png', '8.png', '9.png', '10.png']\n",
    "\n",
    "# define a function to classify the images using different model\n",
    "def classify(img_paths, model, target_size):\n",
    "    print('Model:', model.name)\n",
    "    for i in range(len(img_paths)):\n",
    "        img_path = img_paths[i]\n",
    "        img = image.load_img(img_path, target_size = target_size)\n",
    "        x = image.img_to_array(img)\n",
    "        x = np.expand_dims(x, axis = 0)\n",
    "        x = preprocess_input(x)\n",
    "        preds = model.predict(x)\n",
    "        # show top three predictions with probability\n",
    "        print('Prediction of image' , i+1, ':', decode_predictions(preds, top = 3)[0])"
   ]
  },
  {
   "cell_type": "code",
   "execution_count": null,
   "id": "9aaf1ec6",
   "metadata": {},
   "outputs": [],
   "source": [
    "from tensorflow.keras.applications.vgg16 import VGG16\n",
    "from tensorflow.keras.preprocessing import image\n",
    "from tensorflow.keras.applications.vgg16 import preprocess_input, decode_predictions\n",
    "\n",
    "# VGG16\n",
    "model1 = VGG16(weights = 'imagenet')\n",
    "classify(img_paths, model1, target_size = (224, 224))"
   ]
  },
  {
   "cell_type": "code",
   "execution_count": null,
   "id": "b87e4d1b",
   "metadata": {},
   "outputs": [],
   "source": [
    "from tensorflow.keras.applications.resnet50 import ResNet50\n",
    "from tensorflow.keras.preprocessing import image\n",
    "from tensorflow.keras.applications.resnet50 import preprocess_input, decode_predictions\n",
    "\n",
    "# ResNet50\n",
    "model2 = ResNet50(weights = 'imagenet')\n",
    "classify(img_paths, model2, target_size = (224, 224))"
   ]
  },
  {
   "cell_type": "code",
   "execution_count": null,
   "id": "a5ad2659",
   "metadata": {},
   "outputs": [],
   "source": [
    "from tensorflow.keras.applications.inception_v3 import InceptionV3\n",
    "from tensorflow.keras.preprocessing import image\n",
    "from tensorflow.keras.applications.inception_v3 import preprocess_input, decode_predictions\n",
    "\n",
    "# InceptionV3\n",
    "model3 = InceptionV3(weights = 'imagenet')\n",
    "classify(img_paths, model3, target_size = (299, 299))"
   ]
  },
  {
   "cell_type": "code",
   "execution_count": null,
   "id": "9ff100aa",
   "metadata": {},
   "outputs": [],
   "source": [
    "from tensorflow.keras.applications.densenet import DenseNet121\n",
    "from tensorflow.keras.preprocessing import image\n",
    "from tensorflow.keras.applications.densenet import preprocess_input, decode_predictions\n",
    "\n",
    "# DenseNet121\n",
    "model4 = DenseNet121(weights = 'imagenet')\n",
    "classify(img_paths, model4, target_size = (224, 224))"
   ]
  },
  {
   "cell_type": "code",
   "execution_count": null,
   "id": "4ee7240b",
   "metadata": {},
   "outputs": [],
   "source": [
    "from tensorflow.keras.applications.efficientnet import EfficientNetB2\n",
    "from tensorflow.keras.preprocessing import image\n",
    "from tensorflow.keras.applications.efficientnet import preprocess_input, decode_predictions\n",
    "\n",
    "# EfficientNetB2\n",
    "model5 = EfficientNetB2(weights = 'imagenet')\n",
    "classify(img_paths, model5, target_size = (260, 260))"
   ]
  },
  {
   "cell_type": "code",
   "execution_count": null,
   "id": "9f5b856a",
   "metadata": {},
   "outputs": [],
   "source": []
  }
 ],
 "metadata": {
  "kernelspec": {
   "display_name": "Python 3",
   "language": "python",
   "name": "python3"
  },
  "language_info": {
   "codemirror_mode": {
    "name": "ipython",
    "version": 3
   },
   "file_extension": ".py",
   "mimetype": "text/x-python",
   "name": "python",
   "nbconvert_exporter": "python",
   "pygments_lexer": "ipython3",
   "version": "3.8.8"
  }
 },
 "nbformat": 4,
 "nbformat_minor": 5
}
